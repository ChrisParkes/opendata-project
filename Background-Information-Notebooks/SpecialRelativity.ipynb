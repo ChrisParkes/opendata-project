{
 "cells": [
  {
   "cell_type": "markdown",
   "metadata": {},
   "source": [
    "# Special Relativity and Invariant Mass "
   ]
  },
  {
   "cell_type": "markdown",
   "metadata": {},
   "source": [
    "Special relativity describes the relationship between time and space. It has a range of consequences, including length contraction, time dilation and the universal speed limit of the speed of light. Furthermore, it accounts for the mass-energy equivalence and for relativistic mass.\n",
    "\n",
    "<div align=\"justify\">The mass-energy equivalence is expressed by the formula E=mc<sup>2</sup>, where c is the speed of light in a vacuum. Intrinsic mass is a characteristic of the total energy and momentum of a certain object. It can also describe the total energy and momentum of a system of objetcs, in our case, a system of different particles. If there is a center of momentum for the system, the invariant mass is the total energy divided by the speed of light squared.</div> \n",
    "\n",
    "The full formula for the invariant mass is:\n",
    "\n",
    "M<sup>2</sup><sub>inv</sub>= E<sup>2</sup> - <u>p</u><sup>2</sup>\n",
    "\n",
    "where M<sup>2</sup><sub>inv</sub> is the invariant mass squared, E<sup>2</sup> is the energy squared and <u>p</u><sup>2</sup> is the momentum squared. It is important to notice that the momentum is a vector, while the energy is a scalar. The squares have to be calculated accordingly. \n",
    "\n",
    "If a system of objects is considered, the calculation looks like this:\n",
    "\n",
    "M<sup>2</sup><sub>inv</sub>= (E<sub>obj1</sub> + E<sub>obj2</sub>)<sup>2</sup> - (<u>p</u><sub>obj1</sub> + <u>p</u><sub>obj2</sub>)<sup>2</sup>\n",
    "\n",
    "To get the value for the invariant mass, you simply need to take the square root of M<sup>2</sup><sub>inv</sub>. The units of invariant mass are MeV/c<sup>2</sup>."
   ]
  },
  {
   "cell_type": "code",
   "execution_count": null,
   "metadata": {
    "collapsed": true
   },
   "outputs": [],
   "source": []
  }
 ],
 "metadata": {
  "kernelspec": {
   "display_name": "Python 2",
   "language": "python",
   "name": "python2"
  },
  "language_info": {
   "codemirror_mode": {
    "name": "ipython",
    "version": 2
   },
   "file_extension": ".py",
   "mimetype": "text/x-python",
   "name": "python",
   "nbconvert_exporter": "python",
   "pygments_lexer": "ipython2",
   "version": "2.7.10"
  }
 },
 "nbformat": 4,
 "nbformat_minor": 0
}
