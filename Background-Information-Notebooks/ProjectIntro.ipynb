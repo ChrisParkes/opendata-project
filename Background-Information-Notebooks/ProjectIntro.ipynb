{
 "cells": [
  {
   "cell_type": "markdown",
   "metadata": {},
   "source": [
    "# Particle Physics Focus of this Project"
   ]
  },
  {
   "cell_type": "markdown",
   "metadata": {},
   "source": [
    "Within the scope of this particular project, the focus lies on the decays of the b (or beauty) quarks. To find out more about these, you can have another look at the [Standard Model](http://home.cern/about/physics/standard-model). \n",
    "\n",
    "These b quarks were very common shortly after the Big Bang, but they do not exist freely in the universe today. That is why particle colliders like the LHC is used to produce b quarks, as well as their antimatter counterparts, the anti-b quarks. \n",
    "\n",
    "Both b and anti-b quarks have a very short lifetime and are thus called 'unstable'. But the particles which the b and anti-b quarks decay into, can be long-lived enough to be directly measured by the LHCb detectors. This way, scientists can compare the ways in which the b or anti-b quarks decay to find out why nature seems to prefer matter over antimatter. \n",
    "\n",
    "In this analysis, we look at the B<sup>+</sup> and B<sup>-</sup> mesons and their decays into three hadrons. More specifically, we will compare the rates for the B<sup>+</sup> and B<sup>-</sup> mesons decaying into three hadrons. In our case, each hadron is either a kaon (K<sup>±</sup>) or a pion (π<sup>±</sup>).\n",
    "\n",
    "Throughout this project, you will be able to analyse the decay channels \n",
    "\n",
    "B<sup>+</sup> → K<sup>+</sup>K<sup>+</sup>K<sup>−</sup>:\n",
    "\n",
    "<img src=\"https://i.imgur.com/v270TAu.png\" width=\"300\" />\n",
    "\n",
    "B<sup>+</sup> → π<sup>+</sup>π<sup>+</sup>π<sup>−</sup>:\n",
    "\n",
    "<img src=\"https://i.imgur.com/dnUCkojr.png\" width=\"300\" />\n",
    "\n",
    "B<sup>+</sup> → K<sup>+</sup>π<sup>+</sup>π<sup>−</sup>:\n",
    "\n",
    "<img src=\"https://i.imgur.com/Ir1Pkr5.png\" width=\"300\" />\n",
    "\n",
    "B<sup>+</sup> → π<sup>+</sup>K<sup>+</sup>K<sup>−</sup>:\n",
    "\n",
    "<img src=\"https://i.imgur.com/LpwiIP3.png\" width=\"300\" />\n",
    "\n",
    "The images above describe the quarks the mesons and hadrons consist of (a bar indicates an anti-quark), and the W<sup>+</sup> is indicative of a weak interaction. These images show only the positive B meson decays, the negative decays would look the same but with every + turned into a minus and every quark would be replaced by its anti-quark and vice versa. If you would like to find out more about the way those diagrams are presented, look at [Feynman Diagrams](https://en.wikipedia.org/wiki/Feynman_diagram). \n",
    "\n",
    "In this analysis we will look at whether there is a difference in decay rates for B<sup>+</sup> and B<sup>-</sup> within each decay channel.\n",
    "\n",
    "The decay channel you will look at first is the B<sup>±</sup> → K<sup>±</sup>K<sup>±</sup>K<sup>±</sup> channel."
   ]
  },
  {
   "cell_type": "code",
   "execution_count": null,
   "metadata": {
    "collapsed": true
   },
   "outputs": [],
   "source": []
  }
 ],
 "metadata": {
  "kernelspec": {
   "display_name": "Python 2",
   "language": "python",
   "name": "python2"
  },
  "language_info": {
   "codemirror_mode": {
    "name": "ipython",
    "version": 2
   },
   "file_extension": ".py",
   "mimetype": "text/x-python",
   "name": "python",
   "nbconvert_exporter": "python",
   "pygments_lexer": "ipython2",
   "version": "2.7.10"
  }
 },
 "nbformat": 4,
 "nbformat_minor": 0
}
