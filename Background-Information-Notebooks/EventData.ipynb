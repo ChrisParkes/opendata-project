{
 "cells": [
  {
   "cell_type": "markdown",
   "metadata": {},
   "source": [
    "# Format of Event Data"
   ]
  },
  {
   "cell_type": "markdown",
   "metadata": {},
   "source": [
    "The root file you have been given contains many columns of data, with each row in the table representing one event in the detector. Each column contains different information about the event, seen below.\n",
    "Note: For all variables like H1_PX there also exists H2_PX and H3_PX (this is true for all variables with a number in the name)\n",
    "<img src=\"http://i.imgur.com/vzo5cZt.png\" width=\"700\" />"
   ]
  },
  {
   "cell_type": "markdown",
   "metadata": {},
   "source": [
    "For those who have studied Physics formally some these variables will be familiar, if not explanations are shown below:\n",
    "\n",
    "H1_PX: The momentum of the first hadron (a classification of particle) in the x-direction. That is the mass multiplied by the velocity of the particle in the x-direction. Replace x with y and z for the other variables.\n",
    "\n",
    "H1_ProbK: The probability that the first hadron observed is a Kaon. A kaon is one of the possible mesons that can be produced from the decay of B mesons.\n",
    "\n",
    "H1_ProbPi: The same as the Kaon but for a different particle type called a pion. The pion is lighter than the kaon.\n",
    "\n",
    "H1_Charge: The charge of the hadron detected.\n",
    "\n",
    "H1.isMuon: A binary value which states if that \"Hadron\" is actually a muon. \n",
    "\n",
    "B.FlightDistance: As the B meson is a short lived particle it will only exist for a short amount of time before it decays. \n",
    "\n",
    "B_VertexChi2: When the B meson decays you can find it by looking at the path of the decay products in the detector. As momentum is conserved in the decay you can trace back the lines made by the decay products to find the original position of the B meson. A chi-squared is a measure of the statistical uncertainty. So in this case a measure of the uncertainty of the original B meson position.\n",
    "\n",
    "H1_IPChi2: The impact parameter is defined as the perpendicular distance between the path of a projectile and the center of a potential field created by an object that the projectile is approaching. In this case that is the transverse distance between the path of the decay particles and production point. The chi-squared is the statistical uncertainty on this quantity."
   ]
  },
  {
   "cell_type": "code",
   "execution_count": null,
   "metadata": {
    "collapsed": true
   },
   "outputs": [],
   "source": []
  }
 ],
 "metadata": {
  "kernelspec": {
   "display_name": "Python 2",
   "language": "python",
   "name": "python2"
  },
  "language_info": {
   "codemirror_mode": {
    "name": "ipython",
    "version": 2
   },
   "file_extension": ".py",
   "mimetype": "text/x-python",
   "name": "python",
   "nbconvert_exporter": "python",
   "pygments_lexer": "ipython2",
   "version": "2.7.10"
  }
 },
 "nbformat": 4,
 "nbformat_minor": 0
}
