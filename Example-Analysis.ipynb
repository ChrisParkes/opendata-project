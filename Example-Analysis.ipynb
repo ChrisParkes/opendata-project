{
 "cells": [
  {
   "cell_type": "markdown",
   "metadata": {},
   "source": [
    "# Analysis of Nobel prize winners"
   ]
  },
  {
   "cell_type": "markdown",
   "metadata": {},
   "source": [
    "Welcome to the programming example page. This page shows an example analysis of Nobel prize winners. The coding commands and techniques that are demonstarted in this analysis are similar to those that are needed for your particle physics analysis.\n",
    "\n",
    "**Important** For the sliders in the example histograms to work you will have to run all the codeboxes in this notebook. You can either do this as you read and try changing the code to see what happens, or select cell in the toolbar at the top and select run all."
   ]
  },
  {
   "cell_type": "markdown",
   "metadata": {},
   "source": [
    "First we load in the libraries we require and read in the file that contains the data."
   ]
  },
  {
   "cell_type": "code",
   "execution_count": 3,
   "metadata": {
    "collapsed": false,
    "run_control": {
     "frozen": false,
     "read_only": false
    }
   },
   "outputs": [
    {
     "name": "stdout",
     "output_type": "stream",
     "text": [
      "Populating the interactive namespace from numpy and matplotlib\n"
     ]
    }
   ],
   "source": [
    "import pandas \n",
    "import math\n",
    "from ipywidgets import interact\n",
    "%pylab inline\n",
    "pandas.options.mode.chained_assignment = None "
   ]
  },
  {
   "cell_type": "code",
   "execution_count": 4,
   "metadata": {
    "collapsed": false,
    "run_control": {
     "frozen": false,
     "read_only": false
    }
   },
   "outputs": [],
   "source": [
    "dataFrame = pandas.read_csv('nobel.csv',',') #Getting the data into a panda DataFrame\n",
    "#The data you will work with will not be in .csv form, but can use DataFrame(Array) to do the same thing"
   ]
  },
  {
   "cell_type": "markdown",
   "metadata": {},
   "source": [
    "Lets now view the first few lines of the data table. The rows of the data table are each of the Nobel prizes awarded and the columns are the information about who won the prize.   \n",
    "\n",
    "We have put the data into a pandas DataFrame we can now use all the functions associated with DataFrames. A useful function is *.head()*, this prints out the first few lines of the data table. You can look up the full range of functions in the pandas reference web pages, for DataFrame it is [here](http://pandas.pydata.org/pandas-docs/stable/generated/pandas.DataFrame.html)."
   ]
  },
  {
   "cell_type": "code",
   "execution_count": 5,
   "metadata": {
    "collapsed": false,
    "run_control": {
     "frozen": false,
     "read_only": false
    }
   },
   "outputs": [
    {
     "data": {
      "text/html": [
       "<div>\n",
       "<table border=\"1\" class=\"dataframe\">\n",
       "  <thead>\n",
       "    <tr style=\"text-align: right;\">\n",
       "      <th></th>\n",
       "      <th>Year</th>\n",
       "      <th>Category</th>\n",
       "      <th>Name</th>\n",
       "      <th>Birthdate</th>\n",
       "      <th>Birth Place</th>\n",
       "      <th>County</th>\n",
       "      <th>Residence</th>\n",
       "      <th>Role/Affiliate</th>\n",
       "      <th>Field/Language</th>\n",
       "      <th>Prize Name</th>\n",
       "      <th>Motivation</th>\n",
       "    </tr>\n",
       "  </thead>\n",
       "  <tbody>\n",
       "    <tr>\n",
       "      <th>0</th>\n",
       "      <td>1901</td>\n",
       "      <td>chemistry</td>\n",
       "      <td>Jacobus Henricus van 't Hoff</td>\n",
       "      <td>30 August 1852</td>\n",
       "      <td>Rotterdam</td>\n",
       "      <td>the Netherlands</td>\n",
       "      <td>No Data</td>\n",
       "      <td>Berlin University, Berlin, Germany</td>\n",
       "      <td>Physical chemistry, chemical kinetics</td>\n",
       "      <td>The Nobel Prize in Chemistry</td>\n",
       "      <td>The Nobel Prize in Chemistry 1901 was awarded ...</td>\n",
       "    </tr>\n",
       "    <tr>\n",
       "      <th>1</th>\n",
       "      <td>1901</td>\n",
       "      <td>literature</td>\n",
       "      <td>Sully Prudhomme</td>\n",
       "      <td>16 March 1839</td>\n",
       "      <td>Paris</td>\n",
       "      <td>France</td>\n",
       "      <td>France</td>\n",
       "      <td>No Data</td>\n",
       "      <td>French</td>\n",
       "      <td>The Nobel Prize in Literature</td>\n",
       "      <td>The Nobel Prize in Literature 1901 was awarded...</td>\n",
       "    </tr>\n",
       "    <tr>\n",
       "      <th>2</th>\n",
       "      <td>1901</td>\n",
       "      <td>medicine</td>\n",
       "      <td>Emil Adolf von Behring</td>\n",
       "      <td>15 March 1854</td>\n",
       "      <td>Hansdorf (now Jankowa ?aga?ska)</td>\n",
       "      <td>Prussia (now Poland)</td>\n",
       "      <td>No Data</td>\n",
       "      <td>Marburg University, Marburg, Germany</td>\n",
       "      <td>No Data</td>\n",
       "      <td>The Nobel Prize in Physiology or Medicine</td>\n",
       "      <td>The Nobel Prize in Physiology or Medicine 1901...</td>\n",
       "    </tr>\n",
       "    <tr>\n",
       "      <th>3</th>\n",
       "      <td>1901</td>\n",
       "      <td>peace</td>\n",
       "      <td>Frédéric Passy</td>\n",
       "      <td>20 May 1822</td>\n",
       "      <td>Paris</td>\n",
       "      <td>France</td>\n",
       "      <td>France</td>\n",
       "      <td>Founder and President of first French peace s...</td>\n",
       "      <td>Humanitarian work, peace movement</td>\n",
       "      <td>The Nobel Peace Prize</td>\n",
       "      <td>The Nobel Peace Prize 1901 was awarded jointly...</td>\n",
       "    </tr>\n",
       "    <tr>\n",
       "      <th>4</th>\n",
       "      <td>1901</td>\n",
       "      <td>peace</td>\n",
       "      <td>Jean Henry Dunant</td>\n",
       "      <td>8 May 1828</td>\n",
       "      <td>Geneva</td>\n",
       "      <td>Switzerland</td>\n",
       "      <td>Switzerland</td>\n",
       "      <td>Originator Geneva Convention (Convention de G...</td>\n",
       "      <td>Humanitarian work, peace movement</td>\n",
       "      <td>The Nobel Peace Prize</td>\n",
       "      <td>The Nobel Peace Prize 1901 was awarded jointly...</td>\n",
       "    </tr>\n",
       "  </tbody>\n",
       "</table>\n",
       "</div>"
      ],
      "text/plain": [
       "   Year    Category                          Name       Birthdate  \\\n",
       "0  1901   chemistry  Jacobus Henricus van 't Hoff  30 August 1852   \n",
       "1  1901  literature               Sully Prudhomme   16 March 1839   \n",
       "2  1901    medicine        Emil Adolf von Behring   15 March 1854   \n",
       "3  1901       peace                Frédéric Passy     20 May 1822   \n",
       "4  1901       peace             Jean Henry Dunant      8 May 1828   \n",
       "\n",
       "                       Birth Place                County    Residence  \\\n",
       "0                        Rotterdam       the Netherlands      No Data   \n",
       "1                            Paris                France       France   \n",
       "2  Hansdorf (now Jankowa ?aga?ska)  Prussia (now Poland)      No Data   \n",
       "3                            Paris                France       France   \n",
       "4                           Geneva           Switzerland  Switzerland   \n",
       "\n",
       "                                      Role/Affiliate  \\\n",
       "0                 Berlin University, Berlin, Germany   \n",
       "1                                            No Data   \n",
       "2               Marburg University, Marburg, Germany   \n",
       "3   Founder and President of first French peace s...   \n",
       "4   Originator Geneva Convention (Convention de G...   \n",
       "\n",
       "                           Field/Language  \\\n",
       "0   Physical chemistry, chemical kinetics   \n",
       "1                                  French   \n",
       "2                                 No Data   \n",
       "3       Humanitarian work, peace movement   \n",
       "4       Humanitarian work, peace movement   \n",
       "\n",
       "                                  Prize Name  \\\n",
       "0               The Nobel Prize in Chemistry   \n",
       "1              The Nobel Prize in Literature   \n",
       "2  The Nobel Prize in Physiology or Medicine   \n",
       "3                      The Nobel Peace Prize   \n",
       "4                      The Nobel Peace Prize   \n",
       "\n",
       "                                          Motivation  \n",
       "0  The Nobel Prize in Chemistry 1901 was awarded ...  \n",
       "1  The Nobel Prize in Literature 1901 was awarded...  \n",
       "2  The Nobel Prize in Physiology or Medicine 1901...  \n",
       "3  The Nobel Peace Prize 1901 was awarded jointly...  \n",
       "4  The Nobel Peace Prize 1901 was awarded jointly...  "
      ]
     },
     "execution_count": 5,
     "metadata": {},
     "output_type": "execute_result"
    }
   ],
   "source": [
    "dataFrame.head(5) #Displaying some of the data so you can see what form it takes in the DataFrame\n"
   ]
  },
  {
   "cell_type": "markdown",
   "metadata": {},
   "source": [
    "# Plotting a histogram"
   ]
  },
  {
   "cell_type": "markdown",
   "metadata": {},
   "source": [
    "Lets learn how to plot histograms. We will plot the number of prizes awarded per year. Nobel prizes can be awarded for up to three people per category. As each winner is recorded as an individual entry the histogram will tell us if there has been a trend of increasing or decreasing multiple prize winners in one year.\n",
    "\n",
    "However before we plot the histogram we should find information out about the data so that we can check the range of the data we want to plot."
   ]
  },
  {
   "cell_type": "code",
   "execution_count": 6,
   "metadata": {
    "collapsed": false,
    "run_control": {
     "frozen": false,
     "read_only": false
    }
   },
   "outputs": [
    {
     "data": {
      "text/plain": [
       "Year                                                           1901\n",
       "Category                                                  chemistry\n",
       "Name                                              A. Michael Spence\n",
       "Birthdate                                                    0 1898\n",
       "Birth Place                                                     inf\n",
       "County                                                      Algeria\n",
       "Residence                                                       inf\n",
       "Role/Affiliate                                                  inf\n",
       "Field/Language                 Accelerator physics, instrumentation\n",
       "Prize Name                                    The Nobel Peace Prize\n",
       "Motivation        The Nobel Peace Prize 1901 was awarded jointly...\n",
       "dtype: object"
      ]
     },
     "execution_count": 6,
     "metadata": {},
     "output_type": "execute_result"
    }
   ],
   "source": [
    "dataFrame.min() # returns the first entry in the data"
   ]
  },
  {
   "cell_type": "code",
   "execution_count": 7,
   "metadata": {
    "collapsed": false,
    "run_control": {
     "frozen": false,
     "read_only": false
    }
   },
   "outputs": [
    {
     "data": {
      "text/plain": [
       "Year                                                           2010\n",
       "Category                                                    physics\n",
       "Name                                                  élie Ducommun\n",
       "Birthdate                                                   No Data\n",
       "Birth Place                                               the Hague\n",
       "County                                              the Netherlands\n",
       "Residence                                           the Netherlands\n",
       "Role/Affiliate                                              No Data\n",
       "Field/Language                                              No Data\n",
       "Prize Name                           The Prize in Economic Sciences\n",
       "Motivation        The Sveriges Riksbank Prize in Economic Scienc...\n",
       "dtype: object"
      ]
     },
     "execution_count": 7,
     "metadata": {},
     "output_type": "execute_result"
    }
   ],
   "source": [
    "dataFrame.max() # returns the final entry in the data"
   ]
  },
  {
   "cell_type": "markdown",
   "metadata": {},
   "source": [
    "The data set also contains entries for economics. Economics was not one of the original Nobel prizes and has only been given out since 1969. If we want to do a proper comparison we will need to filter this data out. We can do this with a pandas query. We can then check there are no economics prizes left by using a .tail() function."
   ]
  },
  {
   "cell_type": "code",
   "execution_count": 8,
   "metadata": {
    "collapsed": false
   },
   "outputs": [
    {
     "data": {
      "text/html": [
       "<div>\n",
       "<table border=\"1\" class=\"dataframe\">\n",
       "  <thead>\n",
       "    <tr style=\"text-align: right;\">\n",
       "      <th></th>\n",
       "      <th>Year</th>\n",
       "      <th>Category</th>\n",
       "      <th>Name</th>\n",
       "      <th>Birthdate</th>\n",
       "      <th>Birth Place</th>\n",
       "      <th>County</th>\n",
       "      <th>Residence</th>\n",
       "      <th>Role/Affiliate</th>\n",
       "      <th>Field/Language</th>\n",
       "      <th>Prize Name</th>\n",
       "      <th>Motivation</th>\n",
       "    </tr>\n",
       "  </thead>\n",
       "  <tbody>\n",
       "    <tr>\n",
       "      <th>836</th>\n",
       "      <td>2010</td>\n",
       "      <td>peace</td>\n",
       "      <td>Liu Xiaobo</td>\n",
       "      <td>No Data</td>\n",
       "      <td>NaN</td>\n",
       "      <td>No Data</td>\n",
       "      <td>China</td>\n",
       "      <td>No Data</td>\n",
       "      <td>Human rights</td>\n",
       "      <td>The Nobel Peace Prize</td>\n",
       "      <td>The Nobel Peace Prize 2010 was awarded to Liu ...</td>\n",
       "    </tr>\n",
       "    <tr>\n",
       "      <th>837</th>\n",
       "      <td>2010</td>\n",
       "      <td>physics</td>\n",
       "      <td>Andre Geim</td>\n",
       "      <td>1958</td>\n",
       "      <td>Sochi</td>\n",
       "      <td>Russia</td>\n",
       "      <td>No Data</td>\n",
       "      <td>University of Manchester, Manchester, United ...</td>\n",
       "      <td>No Data</td>\n",
       "      <td>The Nobel Prize in Physics</td>\n",
       "      <td>The Nobel Prize in Physics 2010 was awarded jo...</td>\n",
       "    </tr>\n",
       "    <tr>\n",
       "      <th>838</th>\n",
       "      <td>2010</td>\n",
       "      <td>physics</td>\n",
       "      <td>Konstantin Novoselov</td>\n",
       "      <td>1974</td>\n",
       "      <td>Nizhny Tagil</td>\n",
       "      <td>Russia</td>\n",
       "      <td>No Data</td>\n",
       "      <td>University of Manchester, Manchester, United ...</td>\n",
       "      <td>No Data</td>\n",
       "      <td>The Nobel Prize in Physics</td>\n",
       "      <td>The Nobel Prize in Physics 2010 was awarded jo...</td>\n",
       "    </tr>\n",
       "  </tbody>\n",
       "</table>\n",
       "</div>"
      ],
      "text/plain": [
       "     Year Category                  Name Birthdate   Birth Place   County  \\\n",
       "836  2010    peace            Liu Xiaobo   No Data           NaN  No Data   \n",
       "837  2010  physics            Andre Geim      1958         Sochi   Russia   \n",
       "838  2010  physics  Konstantin Novoselov      1974  Nizhny Tagil   Russia   \n",
       "\n",
       "    Residence                                     Role/Affiliate  \\\n",
       "836     China                                            No Data   \n",
       "837   No Data   University of Manchester, Manchester, United ...   \n",
       "838   No Data   University of Manchester, Manchester, United ...   \n",
       "\n",
       "    Field/Language                  Prize Name  \\\n",
       "836   Human rights       The Nobel Peace Prize   \n",
       "837        No Data  The Nobel Prize in Physics   \n",
       "838        No Data  The Nobel Prize in Physics   \n",
       "\n",
       "                                            Motivation  \n",
       "836  The Nobel Peace Prize 2010 was awarded to Liu ...  \n",
       "837  The Nobel Prize in Physics 2010 was awarded jo...  \n",
       "838  The Nobel Prize in Physics 2010 was awarded jo...  "
      ]
     },
     "execution_count": 8,
     "metadata": {},
     "output_type": "execute_result"
    }
   ],
   "source": [
    "# Filter out the Economics prizes from the data\n",
    "NoEconomics = \"Category != 'economics'\"\n",
    "noEconomicsDataFrame = dataFrame.query(NoEconomics)\n",
    "noEconomicsDataFrame.tail(3)"
   ]
  },
  {
   "cell_type": "markdown",
   "metadata": {},
   "source": [
    "We can now plot the histogram over a sensible range using the hist function from matplot lib."
   ]
  },
  {
   "cell_type": "code",
   "execution_count": 18,
   "metadata": {
    "collapsed": false,
    "run_control": {
     "frozen": false,
     "read_only": false
    }
   },
   "outputs": [
    {
     "data": {
      "text/plain": [
       "<matplotlib.text.Text at 0x7f43bc2eea90>"
      ]
     },
     "execution_count": 18,
     "metadata": {},
     "output_type": "execute_result"
    },
    {
     "data": {
      "image/png": "[encoded data removed]",
      "text/plain": [
       "<matplotlib.figure.Figure at 0x7f43bc11aa50>"
      ]
     },
     "metadata": {},
     "output_type": "display_data"
    }
   ],
   "source": [
    "#Plot the histogram of number of winners\n",
    "attendanceData = hist(noEconomicsDataFrame['Year'], bins=11, range=[1900,2010]) \n",
    "xlabel('Year') #Plot an x label\n",
    "ylabel('Number of Winners') #Plot a y label\n"
   ]
  },
  {
   "cell_type": "markdown",
   "metadata": {},
   "source": [
    "From the histogram we can see that there has been a recent trend of more multiple prize winners in the same year. However there is a drop in the range 1940 - 1950, this was due to prizes being awarded intermittently during World War II. To isolate this gap we can change the bin size (by changing the number of bins variable) to contain this range. Try changing the slider below (you will have to click in code box and press control + enter to activate it) and see how the number of bins affects the look of the histogram."
   ]
  },
  {
   "cell_type": "code",
   "execution_count": 10,
   "metadata": {
    "collapsed": false,
    "run_control": {
     "frozen": false,
     "read_only": false
    },
    "scrolled": true
   },
   "outputs": [
    {
     "name": "stdout",
     "output_type": "stream",
     "text": [
      "3.0\n"
     ]
    },
    {
     "data": {
      "text/plain": [
       "<function __main__.plthist>"
      ]
     },
     "execution_count": 10,
     "metadata": {},
     "output_type": "execute_result"
    },
    {
     "data": {
      "image/png": "[encoded data removed]",
      "text/plain": [
       "<matplotlib.figure.Figure at 0x7f43bc38fb50>"
      ]
     },
     "metadata": {},
     "output_type": "display_data"
    }
   ],
   "source": [
    "def plthist(bins): \n",
    "    changingBins = hist(noEconomicsDataFrame['Year'], bins=bins, range=[1900,2010])\n",
    "    xlabel('Year') #Plot an x label\n",
    "    ylabel('Number of People Given Prizes') #Plot a y label\n",
    "    BinSize = round(float(60)/bins,2)\n",
    "    print(BinSize)\n",
    "    pass\n",
    "\n",
    "interact(plthist,bins = [10,30,1])\n"
   ]
  },
  {
   "cell_type": "markdown",
   "metadata": {},
   "source": [
    "As you can see by varying the slider - changing the bin size really does change how the data looks! There is discussion on what is the appropiate bin size to use in the main notebook."
   ]
  },
  {
   "cell_type": "markdown",
   "metadata": {},
   "source": [
    "## Pre-selections"
   ]
  },
  {
   "cell_type": "markdown",
   "metadata": {},
   "source": [
    "We now want to pre-select our data. This is the same process as with filtering out economics prizes before but we'll go into more detail. This time lets filter out everything except Physics. We could do so by building a new dataset from the old one with loops and if statements, but the inbuilt pandas function .query() provides a quicker way. By passing a conditional statement, formatted into a string, we can create a new dataframe which is filled with only data that made the conditional statement true. A few examples are given below but only filtering out all but physics is used."
   ]
  },
  {
   "cell_type": "code",
   "execution_count": 11,
   "metadata": {
    "collapsed": false,
    "run_control": {
     "frozen": false,
     "read_only": false
    }
   },
   "outputs": [],
   "source": [
    "# Example filters for the data set\n",
    "modernPhysics = \"(Category == 'physics' && Year > 2005)\" #Integer values don't go inside quotes! Just like normal conditionals\n",
    "physicsOnly = \"(Category == 'physics')\"\n",
    "# apply the physicsOnly query\n",
    "physicsOnlyDataFrame = dataFrame.query(physicsOnly)"
   ]
  },
  {
   "cell_type": "markdown",
   "metadata": {},
   "source": [
    "Lets check the new DataFrames to see if this has worked!"
   ]
  },
  {
   "cell_type": "code",
   "execution_count": 12,
   "metadata": {
    "collapsed": false,
    "run_control": {
     "frozen": false,
     "read_only": false
    }
   },
   "outputs": [
    {
     "data": {
      "text/html": [
       "<div>\n",
       "<table border=\"1\" class=\"dataframe\">\n",
       "  <thead>\n",
       "    <tr style=\"text-align: right;\">\n",
       "      <th></th>\n",
       "      <th>Year</th>\n",
       "      <th>Category</th>\n",
       "      <th>Name</th>\n",
       "      <th>Birthdate</th>\n",
       "      <th>Birth Place</th>\n",
       "      <th>County</th>\n",
       "      <th>Residence</th>\n",
       "      <th>Role/Affiliate</th>\n",
       "      <th>Field/Language</th>\n",
       "      <th>Prize Name</th>\n",
       "      <th>Motivation</th>\n",
       "    </tr>\n",
       "  </thead>\n",
       "  <tbody>\n",
       "    <tr>\n",
       "      <th>5</th>\n",
       "      <td>1901</td>\n",
       "      <td>physics</td>\n",
       "      <td>Wilhelm Conrad Röntgen</td>\n",
       "      <td>27 March 1845</td>\n",
       "      <td>Lennep (now Remscheid)</td>\n",
       "      <td>Prussia (now Germany)</td>\n",
       "      <td>No Data</td>\n",
       "      <td>Munich University, Munich, Germany</td>\n",
       "      <td>X-rays, atomic physics</td>\n",
       "      <td>The Nobel Prize in Physics</td>\n",
       "      <td>The Nobel Prize in Physics 1901 was awarded to...</td>\n",
       "    </tr>\n",
       "    <tr>\n",
       "      <th>11</th>\n",
       "      <td>1902</td>\n",
       "      <td>physics</td>\n",
       "      <td>Hendrik Antoon Lorentz</td>\n",
       "      <td>18 July 1853</td>\n",
       "      <td>Arnhem</td>\n",
       "      <td>the Netherlands</td>\n",
       "      <td>No Data</td>\n",
       "      <td>Leiden University, Leiden, the Netherlands</td>\n",
       "      <td>Atomic physics, quantum physics</td>\n",
       "      <td>The Nobel Prize in Physics</td>\n",
       "      <td>The Nobel Prize in Physics 1902 was awarded jo...</td>\n",
       "    </tr>\n",
       "    <tr>\n",
       "      <th>12</th>\n",
       "      <td>1902</td>\n",
       "      <td>physics</td>\n",
       "      <td>Pieter Zeeman</td>\n",
       "      <td>25 May 1865</td>\n",
       "      <td>Zonnemaire</td>\n",
       "      <td>the Netherlands</td>\n",
       "      <td>No Data</td>\n",
       "      <td>Amsterdam University, Amsterdam, the Netherlands</td>\n",
       "      <td>Atomic physics, quantum physics</td>\n",
       "      <td>The Nobel Prize in Physics</td>\n",
       "      <td>The Nobel Prize in Physics 1902 was awarded jo...</td>\n",
       "    </tr>\n",
       "    <tr>\n",
       "      <th>17</th>\n",
       "      <td>1903</td>\n",
       "      <td>physics</td>\n",
       "      <td>Antoine Henri Becquerel</td>\n",
       "      <td>15 December 1852</td>\n",
       "      <td>Paris</td>\n",
       "      <td>France</td>\n",
       "      <td>No Data</td>\n",
       "      <td>école Polytechnique, Paris, France</td>\n",
       "      <td>Nuclear physics</td>\n",
       "      <td>The Nobel Prize in Physics</td>\n",
       "      <td>The Nobel Prize in Physics 1903 was divided, o...</td>\n",
       "    </tr>\n",
       "    <tr>\n",
       "      <th>18</th>\n",
       "      <td>1903</td>\n",
       "      <td>physics</td>\n",
       "      <td>Marie Curie, née Sklodowska</td>\n",
       "      <td>7 November 1867</td>\n",
       "      <td>Warsaw</td>\n",
       "      <td>Russian Empire (now Poland)</td>\n",
       "      <td>No Data</td>\n",
       "      <td>NaN</td>\n",
       "      <td>Nuclear physics</td>\n",
       "      <td>The Nobel Prize in Physics</td>\n",
       "      <td>The Nobel Prize in Physics 1903 was divided, o...</td>\n",
       "    </tr>\n",
       "  </tbody>\n",
       "</table>\n",
       "</div>"
      ],
      "text/plain": [
       "    Year Category                         Name         Birthdate  \\\n",
       "5   1901  physics       Wilhelm Conrad Röntgen     27 March 1845   \n",
       "11  1902  physics       Hendrik Antoon Lorentz      18 July 1853   \n",
       "12  1902  physics                Pieter Zeeman       25 May 1865   \n",
       "17  1903  physics      Antoine Henri Becquerel  15 December 1852   \n",
       "18  1903  physics  Marie Curie, née Sklodowska   7 November 1867   \n",
       "\n",
       "               Birth Place                       County Residence  \\\n",
       "5   Lennep (now Remscheid)        Prussia (now Germany)   No Data   \n",
       "11                  Arnhem              the Netherlands   No Data   \n",
       "12              Zonnemaire              the Netherlands   No Data   \n",
       "17                   Paris                       France   No Data   \n",
       "18                  Warsaw  Russian Empire (now Poland)   No Data   \n",
       "\n",
       "                                       Role/Affiliate  \\\n",
       "5                  Munich University, Munich, Germany   \n",
       "11         Leiden University, Leiden, the Netherlands   \n",
       "12   Amsterdam University, Amsterdam, the Netherlands   \n",
       "17                 école Polytechnique, Paris, France   \n",
       "18                                                NaN   \n",
       "\n",
       "                      Field/Language                  Prize Name  \\\n",
       "5             X-rays, atomic physics  The Nobel Prize in Physics   \n",
       "11   Atomic physics, quantum physics  The Nobel Prize in Physics   \n",
       "12   Atomic physics, quantum physics  The Nobel Prize in Physics   \n",
       "17                   Nuclear physics  The Nobel Prize in Physics   \n",
       "18                   Nuclear physics  The Nobel Prize in Physics   \n",
       "\n",
       "                                           Motivation  \n",
       "5   The Nobel Prize in Physics 1901 was awarded to...  \n",
       "11  The Nobel Prize in Physics 1902 was awarded jo...  \n",
       "12  The Nobel Prize in Physics 1902 was awarded jo...  \n",
       "17  The Nobel Prize in Physics 1903 was divided, o...  \n",
       "18  The Nobel Prize in Physics 1903 was divided, o...  "
      ]
     },
     "execution_count": 12,
     "metadata": {},
     "output_type": "execute_result"
    }
   ],
   "source": [
    "physicsOnlyDataFrame.head()"
   ]
  },
  {
   "cell_type": "markdown",
   "metadata": {
    "collapsed": true
   },
   "source": [
    "Brilliant! You will find this technique useful to selection kaons in the main analysis. Lets now plot the number of winners per year just for physics.\n",
    "\n",
    "You may be wondering why the indexes are not sequentially ordered. This is due to how .query() took the data from the previous data frame."
   ]
  },
  {
   "cell_type": "code",
   "execution_count": 13,
   "metadata": {
    "collapsed": false,
    "run_control": {
     "frozen": false,
     "read_only": false
    }
   },
   "outputs": [
    {
     "data": {
      "image/png": "[encoded data removed]",
      "text/plain": [
       "<matplotlib.figure.Figure at 0x7f43bc338b10>"
      ]
     },
     "metadata": {},
     "output_type": "display_data"
    }
   ],
   "source": [
    "attendanceData = hist(physicsOnlyDataFrame['Year'].values,bins = 15,range = [1920,2010]) #plot the non-biased distribution!\n",
    "#.values is needed due to a quirk of how pandas.query works. More information below!"
   ]
  },
  {
   "cell_type": "markdown",
   "metadata": {},
   "source": [
    "We have now successfully plotted the histogram of just the physics prizes after applying our pre-selection. Why did we have to do...\n",
    ">hist(physicsOnlyDataFrame['Year'].values\n",
    "\n",
    "This (and the associated indexing weirdness) comes from the fact that when we apply .query to our original DataFrame creating the new physicsOnlyDataFrame there isn't a process of copying the entries. Instead the new dataFrame just points to the values in the old one. This can lead to problems when using non-pandas functions that aren't ready to handle data where the first array index is not [0]. Using .values before the histogram avoids this problem."
   ]
  },
  {
   "cell_type": "markdown",
   "metadata": {},
   "source": [
    "# Scatter Plots and 2D Histogram\n",
    "### Adding New Data to a Data Frame"
   ]
  },
  {
   "cell_type": "markdown",
   "metadata": {},
   "source": [
    "You will find this section useful for when it comes to creating a Dalitz plot in the particle physics analysis.\n",
    "\n",
    "We want to see if over time people have been getting awarded Nobel prizes earlier or later in their life. First we'll need to calculate the age or the winners at the time the prize was awarded based on the Year and Birthdate columns. We create an AgeAwarded variable and add this to the data.\n",
    "\n",
    "Don't worry about the string cutting code in *parse_year* if you don't understand it as you won't need it for the main analysis. Just observe how you can add new columns to the data frame and apply functions."
   ]
  },
  {
   "cell_type": "code",
   "execution_count": 14,
   "metadata": {
    "collapsed": false
   },
   "outputs": [
    {
     "data": {
      "text/html": [
       "<div>\n",
       "<table border=\"1\" class=\"dataframe\">\n",
       "  <thead>\n",
       "    <tr style=\"text-align: right;\">\n",
       "      <th></th>\n",
       "      <th>Year</th>\n",
       "      <th>Category</th>\n",
       "      <th>Name</th>\n",
       "      <th>Birthdate</th>\n",
       "      <th>Birth Place</th>\n",
       "      <th>County</th>\n",
       "      <th>Residence</th>\n",
       "      <th>Role/Affiliate</th>\n",
       "      <th>Field/Language</th>\n",
       "      <th>Prize Name</th>\n",
       "      <th>Motivation</th>\n",
       "      <th>BirthYear</th>\n",
       "      <th>AgeAwarded</th>\n",
       "    </tr>\n",
       "  </thead>\n",
       "  <tbody>\n",
       "    <tr>\n",
       "      <th>5</th>\n",
       "      <td>1901</td>\n",
       "      <td>physics</td>\n",
       "      <td>Wilhelm Conrad Röntgen</td>\n",
       "      <td>27 March 1845</td>\n",
       "      <td>Lennep (now Remscheid)</td>\n",
       "      <td>Prussia (now Germany)</td>\n",
       "      <td>No Data</td>\n",
       "      <td>Munich University, Munich, Germany</td>\n",
       "      <td>X-rays, atomic physics</td>\n",
       "      <td>The Nobel Prize in Physics</td>\n",
       "      <td>The Nobel Prize in Physics 1901 was awarded to...</td>\n",
       "      <td>1845</td>\n",
       "      <td>56</td>\n",
       "    </tr>\n",
       "    <tr>\n",
       "      <th>11</th>\n",
       "      <td>1902</td>\n",
       "      <td>physics</td>\n",
       "      <td>Hendrik Antoon Lorentz</td>\n",
       "      <td>18 July 1853</td>\n",
       "      <td>Arnhem</td>\n",
       "      <td>the Netherlands</td>\n",
       "      <td>No Data</td>\n",
       "      <td>Leiden University, Leiden, the Netherlands</td>\n",
       "      <td>Atomic physics, quantum physics</td>\n",
       "      <td>The Nobel Prize in Physics</td>\n",
       "      <td>The Nobel Prize in Physics 1902 was awarded jo...</td>\n",
       "      <td>1853</td>\n",
       "      <td>49</td>\n",
       "    </tr>\n",
       "    <tr>\n",
       "      <th>12</th>\n",
       "      <td>1902</td>\n",
       "      <td>physics</td>\n",
       "      <td>Pieter Zeeman</td>\n",
       "      <td>25 May 1865</td>\n",
       "      <td>Zonnemaire</td>\n",
       "      <td>the Netherlands</td>\n",
       "      <td>No Data</td>\n",
       "      <td>Amsterdam University, Amsterdam, the Netherlands</td>\n",
       "      <td>Atomic physics, quantum physics</td>\n",
       "      <td>The Nobel Prize in Physics</td>\n",
       "      <td>The Nobel Prize in Physics 1902 was awarded jo...</td>\n",
       "      <td>1865</td>\n",
       "      <td>37</td>\n",
       "    </tr>\n",
       "    <tr>\n",
       "      <th>17</th>\n",
       "      <td>1903</td>\n",
       "      <td>physics</td>\n",
       "      <td>Antoine Henri Becquerel</td>\n",
       "      <td>15 December 1852</td>\n",
       "      <td>Paris</td>\n",
       "      <td>France</td>\n",
       "      <td>No Data</td>\n",
       "      <td>école Polytechnique, Paris, France</td>\n",
       "      <td>Nuclear physics</td>\n",
       "      <td>The Nobel Prize in Physics</td>\n",
       "      <td>The Nobel Prize in Physics 1903 was divided, o...</td>\n",
       "      <td>1852</td>\n",
       "      <td>51</td>\n",
       "    </tr>\n",
       "    <tr>\n",
       "      <th>18</th>\n",
       "      <td>1903</td>\n",
       "      <td>physics</td>\n",
       "      <td>Marie Curie, née Sklodowska</td>\n",
       "      <td>7 November 1867</td>\n",
       "      <td>Warsaw</td>\n",
       "      <td>Russian Empire (now Poland)</td>\n",
       "      <td>No Data</td>\n",
       "      <td>NaN</td>\n",
       "      <td>Nuclear physics</td>\n",
       "      <td>The Nobel Prize in Physics</td>\n",
       "      <td>The Nobel Prize in Physics 1903 was divided, o...</td>\n",
       "      <td>1867</td>\n",
       "      <td>36</td>\n",
       "    </tr>\n",
       "  </tbody>\n",
       "</table>\n",
       "</div>"
      ],
      "text/plain": [
       "    Year Category                         Name         Birthdate  \\\n",
       "5   1901  physics       Wilhelm Conrad Röntgen     27 March 1845   \n",
       "11  1902  physics       Hendrik Antoon Lorentz      18 July 1853   \n",
       "12  1902  physics                Pieter Zeeman       25 May 1865   \n",
       "17  1903  physics      Antoine Henri Becquerel  15 December 1852   \n",
       "18  1903  physics  Marie Curie, née Sklodowska   7 November 1867   \n",
       "\n",
       "               Birth Place                       County Residence  \\\n",
       "5   Lennep (now Remscheid)        Prussia (now Germany)   No Data   \n",
       "11                  Arnhem              the Netherlands   No Data   \n",
       "12              Zonnemaire              the Netherlands   No Data   \n",
       "17                   Paris                       France   No Data   \n",
       "18                  Warsaw  Russian Empire (now Poland)   No Data   \n",
       "\n",
       "                                       Role/Affiliate  \\\n",
       "5                  Munich University, Munich, Germany   \n",
       "11         Leiden University, Leiden, the Netherlands   \n",
       "12   Amsterdam University, Amsterdam, the Netherlands   \n",
       "17                 école Polytechnique, Paris, France   \n",
       "18                                                NaN   \n",
       "\n",
       "                      Field/Language                  Prize Name  \\\n",
       "5             X-rays, atomic physics  The Nobel Prize in Physics   \n",
       "11   Atomic physics, quantum physics  The Nobel Prize in Physics   \n",
       "12   Atomic physics, quantum physics  The Nobel Prize in Physics   \n",
       "17                   Nuclear physics  The Nobel Prize in Physics   \n",
       "18                   Nuclear physics  The Nobel Prize in Physics   \n",
       "\n",
       "                                           Motivation  BirthYear  AgeAwarded  \n",
       "5   The Nobel Prize in Physics 1901 was awarded to...       1845          56  \n",
       "11  The Nobel Prize in Physics 1902 was awarded jo...       1853          49  \n",
       "12  The Nobel Prize in Physics 1902 was awarded jo...       1865          37  \n",
       "17  The Nobel Prize in Physics 1903 was divided, o...       1852          51  \n",
       "18  The Nobel Prize in Physics 1903 was divided, o...       1867          36  "
      ]
     },
     "execution_count": 14,
     "metadata": {},
     "output_type": "execute_result"
    }
   ],
   "source": [
    "def parse_year(s):\n",
    "    if s[-3] == '-':\n",
    "        return int('19' + s[-2:])\n",
    "    elif s[-4:] == 'Data':   #If there is a value of no data set the age to something\n",
    "        return 1000          #Large that we can filter later\n",
    "    else:\n",
    "        return int(s[-4:])\n",
    "\n",
    "birthdateString = physicsOnlyDataFrame['Birthdate'].apply(parse_year)\n",
    "physicsOnlyDataFrame['BirthYear'] = birthdateString\n",
    "physicsOnlyDataFrame['AgeAwarded'] = physicsOnlyDataFrame['Year'] - physicsOnlyDataFrame['BirthYear'] #Create new variable in the dataframe\n",
    "physicsOnlyDataFrame = physicsOnlyDataFrame.query(\"AgeAwarded < 200\") #This filters out the no Data replaced data!\n",
    "physicsOnlyDataFrame.head()"
   ]
  },
  {
   "cell_type": "markdown",
   "metadata": {},
   "source": [
    "Now lets plot a scatter plot of Age vs Data awarded"
   ]
  },
  {
   "cell_type": "code",
   "execution_count": 19,
   "metadata": {
    "collapsed": false
   },
   "outputs": [
    {
     "data": {
      "text/plain": [
       "(20, 100)"
      ]
     },
     "execution_count": 19,
     "metadata": {},
     "output_type": "execute_result"
    },
    {
     "data": {
      "image/png": "[encoded data removed]",
      "text/plain": [
       "<matplotlib.figure.Figure at 0x7f43bc246fd0>"
      ]
     },
     "metadata": {},
     "output_type": "display_data"
    }
   ],
   "source": [
    "scatter(physicsOnlyDataFrame['Year'].values,physicsOnlyDataFrame['AgeAwarded'].values)\n",
    "plt.xlim(1900, 2010) #change the area of the plot\n",
    "plt.ylim(20, 100)\n"
   ]
  },
  {
   "cell_type": "markdown",
   "metadata": {},
   "source": [
    "We can also plot a 2D histogram and bin the results. The number of entries in the data set is relatively low so we will need to use reasonably large bins to have acceptable statistics in each bin. We have given you the ability to change the number of bins so you can see how the plot changes. Note that the number of total bins is the value of the slider squared. This is because the value of bins given in the hist2d function is the number of bins on one axis."
   ]
  },
  {
   "cell_type": "code",
   "execution_count": 16,
   "metadata": {
    "collapsed": false
   },
   "outputs": [
    {
     "data": {
      "image/png": "[encoded data removed]",
      "text/plain": [
       "<matplotlib.figure.Figure at 0x7f43bc178d50>"
      ]
     },
     "metadata": {},
     "output_type": "display_data"
    },
    {
     "data": {
      "text/plain": [
       "<function __main__.plthist>"
      ]
     },
     "execution_count": 16,
     "metadata": {},
     "output_type": "execute_result"
    }
   ],
   "source": [
    "def plthist(bins):\n",
    "    hist2d(physicsOnlyDataFrame['Year'].values,physicsOnlyDataFrame['AgeAwarded'].values, bins=bins, cmap = 'Blues')#Plot the 2d histogram\n",
    "   \n",
    "    colorbar() #Set a colour legend\n",
    "    xlabel('Year Awarded')\n",
    "    ylabel('Age Awarded')\n",
    "    show()\n",
    "    \n",
    "    \n",
    "    \n",
    "interact(plthist,bins = [1,10,1]) #Creates the slider"
   ]
  },
  {
   "cell_type": "markdown",
   "metadata": {},
   "source": [
    "Playing with the slider will show you the effect of changing bthe in size in a 2D histogram. The darker bins in the top right corner show that there does appear to be a trend of Nobel prizes being won at an older age in more recent years."
   ]
  },
  {
   "cell_type": "markdown",
   "metadata": {},
   "source": [
    "## Conditional Summation"
   ]
  },
  {
   "cell_type": "markdown",
   "metadata": {},
   "source": [
    "One final thing that will be useful for you to know is how to count the number of rows in a table that satisfy a given condition (namely for the summing of the particles with positive or negative charge).\n",
    "\n",
    "For this example lets count the number of Nobel laureates for the different prizes."
   ]
  },
  {
   "cell_type": "code",
   "execution_count": 17,
   "metadata": {
    "collapsed": false
   },
   "outputs": [
    {
     "name": "stdout",
     "output_type": "stream",
     "text": [
      "Economics: 67 Chemistry: 160 Physics: 189\n"
     ]
    }
   ],
   "source": [
    "ListOfCategories = dataFrame.Category\n",
    "#The .Category turns the dataFrame into a list of just categories\n",
    "#We can then use numpy.sum() on the list\n",
    "TotalEconomics = numpy.sum(ListOfCategories == 'economics')\n",
    "TotalChemistry = numpy.sum(ListOfCategories == 'chemistry')\n",
    "TotalPhysics = numpy.sum(ListOfCategories == 'physics')\n",
    "print('Economics: ' + str(TotalEconomics) + ' Chemistry: ' + str(TotalChemistry) + ' Physics: ' + str(TotalPhysics))"
   ]
  }
 ],
 "metadata": {
  "kernelspec": {
   "display_name": "Python 2",
   "language": "python",
   "name": "python2"
  },
  "language_info": {
   "codemirror_mode": {
    "name": "ipython",
    "version": 2
   },
   "file_extension": ".py",
   "mimetype": "text/x-python",
   "name": "python",
   "nbconvert_exporter": "python",
   "pygments_lexer": "ipython2",
   "version": "2.7.10"
  },
  "toc": {
   "toc_cell": false,
   "toc_number_sections": true,
   "toc_threshold": 6,
   "toc_window_display": false
  }
 },
 "nbformat": 4,
 "nbformat_minor": 0
}
